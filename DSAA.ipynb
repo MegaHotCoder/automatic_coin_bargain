{
  "nbformat": 4,
  "nbformat_minor": 0,
  "metadata": {
    "colab": {
      "provenance": [],
      "authorship_tag": "ABX9TyNYGJ9Y93lLXHiFslHyEf+g",
      "include_colab_link": true
    },
    "kernelspec": {
      "name": "python3",
      "display_name": "Python 3"
    },
    "language_info": {
      "name": "python"
    }
  },
  "cells": [
    {
      "cell_type": "markdown",
      "metadata": {
        "id": "view-in-github",
        "colab_type": "text"
      },
      "source": [
        "<a href=\"https://colab.research.google.com/github/MegaHotCoder/automatic_coin_bargain/blob/main/DSAA.ipynb\" target=\"_parent\"><img src=\"https://colab.research.google.com/assets/colab-badge.svg\" alt=\"Open In Colab\"/></a>"
      ]
    },
    {
      "cell_type": "code",
      "execution_count": null,
      "metadata": {
        "colab": {
          "base_uri": "https://localhost:8080/"
        },
        "id": "mW35LRNLEb5e",
        "outputId": "66cd82e1-010f-45c5-ed58-be6040670178"
      },
      "outputs": [
        {
          "output_type": "stream",
          "name": "stdout",
          "text": [
            "5\n",
            "120\n"
          ]
        }
      ],
      "source": [
        "def recursion(n):\n",
        "  if n == 0:\n",
        "    return 1\n",
        "  else:\n",
        "    return (n* recursion(n-1))\n",
        "\n",
        "n = int(input())\n",
        "print(recursion(n))"
      ]
    },
    {
      "cell_type": "code",
      "source": [
        "def binary_search(dataDesk,low,high,n):\n",
        "\n",
        "  if low > high:\n",
        "    return False\n",
        "\n",
        "  mid = (low+high) // 2\n",
        "\n",
        "  if n == dataDesk[mid]:\n",
        "    return True\n",
        "  elif n > dataDesk[mid]:\n",
        "    return binary_search(dataDesk,mid+1,high,n)\n",
        "  elif n< dataDesk[mid]:\n",
        "    return binary_search(dataDesk,low,mid-1,n)\n",
        "\n",
        "\n",
        "\n",
        "originData = list(map(int, input().split()))\n",
        "dataDesk = sorted(originData)\n",
        "n = int(input())\n",
        "low = 0\n",
        "high = len(dataDesk)-1\n",
        "\n",
        "how = binary_search(dataDesk,low,high, n)\n",
        "\n",
        "if how:\n",
        "  print('true')\n",
        "else:\n",
        "  print('false')"
      ],
      "metadata": {
        "colab": {
          "base_uri": "https://localhost:8080/"
        },
        "id": "nE-rriYHE0nt",
        "outputId": "a793b240-d6f2-4f6f-e4cc-e7225c8c86aa"
      },
      "execution_count": null,
      "outputs": [
        {
          "output_type": "stream",
          "name": "stdout",
          "text": [
            "9 8 7 6 5 4 3 2 1\n",
            "9\n",
            "true\n"
          ]
        }
      ]
    },
    {
      "cell_type": "code",
      "source": [
        "originData = list(map(int, input().split()))\n",
        "length = len(originData)\n",
        "dataDesk = [0 for _ in range(length)]\n",
        "\n",
        "def copy(lis1, lis2,length):\n",
        "  for i in range(length):\n",
        "    for j in range(length):\n",
        "      if lis1[i] < lis2[j]:\n",
        "        if lis2[j] != 0:\n",
        "          for k in range(length-1,j,-1):\n",
        "            lis2[k] = lis2[k-1]\n",
        "          lis2[j] = lis1[i]\n",
        "          break\n",
        "      elif lis1[i] > lis2[j]:\n",
        "        if lis2[j] == 0:\n",
        "          lis2[j] = lis1[i]\n",
        "          break\n",
        "\n",
        "\n",
        "\n",
        "  return lis2\n",
        "\n",
        "print(copy(originData,dataDesk,length))\n"
      ],
      "metadata": {
        "colab": {
          "base_uri": "https://localhost:8080/"
        },
        "id": "Dw9c0oyWHglB",
        "outputId": "e42d6417-b3bc-4148-ccce-f654dfd2f02a"
      },
      "execution_count": null,
      "outputs": [
        {
          "output_type": "stream",
          "name": "stdout",
          "text": [
            "10 5 30 40 2 4 9\n",
            "[2, 4, 5, 9, 10, 30, 40]\n"
          ]
        }
      ]
    }
  ]
}